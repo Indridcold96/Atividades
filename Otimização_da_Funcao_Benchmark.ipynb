{
  "nbformat": 4,
  "nbformat_minor": 0,
  "metadata": {
    "colab": {
      "name": "Otimização_da_Funcao_Benchmark.ipynb",
      "provenance": [],
      "collapsed_sections": [],
      "include_colab_link": true
    },
    "kernelspec": {
      "name": "python3",
      "display_name": "Python 3"
    }
  },
  "cells": [
    {
      "cell_type": "markdown",
      "metadata": {
        "id": "view-in-github",
        "colab_type": "text"
      },
      "source": [
        "<a href=\"https://colab.research.google.com/github/Indridcold96/Atividades/blob/master/Otimiza%C3%A7%C3%A3o_da_Funcao_Benchmark.ipynb\" target=\"_parent\"><img src=\"https://colab.research.google.com/assets/colab-badge.svg\" alt=\"Open In Colab\"/></a>"
      ]
    },
    {
      "cell_type": "markdown",
      "metadata": {
        "id": "3qSvUjjXnjvz",
        "colab_type": "text"
      },
      "source": [
        "#Alunos:\n",
        "\n",
        "##Luiz Eduardo Magalhães Ferreira e Luan Fernando Ferreira"
      ]
    },
    {
      "cell_type": "markdown",
      "metadata": {
        "id": "LkKLm9ZqnvbQ",
        "colab_type": "text"
      },
      "source": [
        "## Função objetivo\n",
        "\n",
        "Bird Function. \n",
        "\n",
        "\\begin{equation}\n",
        "f(x, y) = sin(x)e^{(1-cos(y))^2}+cos(y)e^{(1-sin(x))^2}+(x-y)^2\n",
        "\\end{equation}\n"
      ]
    },
    {
      "cell_type": "code",
      "metadata": {
        "id": "_tuDOR00ny7x",
        "colab_type": "code",
        "colab": {}
      },
      "source": [
        "from math import sin, cos, e, pi\n",
        "from random import uniform\n",
        "\n",
        "\n",
        "def bird_function(x, y):\n",
        "  return (sin(x)*pow(e, pow(1-cos(y),2)) + cos(y)*pow(e, pow(1-sin(x),2)) + pow(x - y, 2))\n"
      ],
      "execution_count": 0,
      "outputs": []
    },
    {
      "cell_type": "markdown",
      "metadata": {
        "id": "5hhurLHLyoZv",
        "colab_type": "text"
      },
      "source": [
        "## Algoritmo de Busca Aleatória"
      ]
    },
    {
      "cell_type": "code",
      "metadata": {
        "id": "DWHlXdoNoZgY",
        "colab_type": "code",
        "outputId": "97df95c8-fc3f-4dd9-b7ab-755a0484ca46",
        "colab": {
          "base_uri": "https://localhost:8080/",
          "height": 305
        }
      },
      "source": [
        "# Quantidade de tentativas de gerar uma nova solução\n",
        "iteracoes = 100\n",
        "\n",
        "# listas com os dados para gerar o gráfico\n",
        "func_objetivo = []\n",
        "tentativas = []\n",
        "valor_x = []\n",
        "valor_y = []\n",
        "\n",
        "# contador de tentativas\n",
        "i = 1\n",
        "\n",
        "# Gera a solução inicial aleatoriamente respeitando os limites \n",
        "x = random.uniform(-2*pi, 2*pi)\n",
        "y = random.uniform(-2*pi, 2*pi)\n",
        "\n",
        "# calcula a qualidade da solucao\n",
        "z = bird_function(x, y)\n",
        "\n",
        "# salva os dados para geração do gráfico\n",
        "func_objetivo.append(z)\n",
        "valor_x.append(x)\n",
        "valor_y.append(y)\n",
        "tentativas.append(0)\n",
        "\n",
        "# enquanto houver tentativas\n",
        "while i < iteracoes:\n",
        "  \n",
        "  # geracao de uma nova solucao aleatoriamente, respeitando os limites\n",
        "  tempX = random.uniform(-2*pi, 2*pi)\n",
        "  tempY = random.uniform(-2*pi, 2*pi)\n",
        "  \n",
        "  # Calcula a qualidade da solução gerada\n",
        "  tempfunction = bird_function(tempX, tempY)\n",
        "  \n",
        "  # se a nova solucao for melhor, atualiza\n",
        "  if( tempfunction < z ):\n",
        "    z = tempfunction\n",
        "    x = tempX\n",
        "    y = tempY\n",
        "  \n",
        "  \n",
        "  # salva os dados para geração do gráfico\n",
        "  func_objetivo.append(z)\n",
        "  tentativas.append(i)\n",
        "  valor_x.append(x)\n",
        "  valor_y.append(x)\n",
        "  \n",
        "  # contabiliza a tentativa\n",
        "  i = i + 1\n",
        "\n",
        "#############################################\n",
        "## Geracao do gráfico  \n",
        "#############################################\n",
        "# Importação da biblioteca MatplotLib\n",
        "\n",
        "y = func_objetivo\n",
        "x = tentativas\n",
        "\n",
        "# Biblioteca matplotlib\n",
        "import matplotlib\n",
        "matplotlib.use('Agg')\n",
        "# Gera os gráficos\n",
        "import matplotlib.pyplot as plt\n",
        "\n",
        "# Utilizado para cálculos\n",
        "import numpy as np\n",
        "\n",
        "# Utilizado para exibir as imagens\n",
        "from IPython.display import Image\n",
        "\n",
        "# Dados que serão utilizados\n",
        "\n",
        "\n",
        "# Gera o gráfico de linhas\n",
        "plt.plot(x, y )\n",
        "\n",
        "# Coloca o título\n",
        "plt.title(\"Desempenho da busca aleatoria\")\n",
        "\n",
        "plt.ylabel(\"Valor da funcao objetivo\")\n",
        "plt.xlabel(\"Iteracoes\")\n",
        "\n",
        "# Salva a figura em um arquivo\n",
        "plt.savefig('grafico_de_linha')\n",
        "\n",
        "plt.close('all')\n",
        "\n",
        "# Exibe a imagem\n",
        "Image('grafico_de_linha.png')\n"
      ],
      "execution_count": 29,
      "outputs": [
        {
          "output_type": "execute_result",
          "data": {
            "image/png": "[encoded data removed]",
            "text/plain": [
              "<IPython.core.display.Image object>"
            ]
          },
          "metadata": {
            "tags": []
          },
          "execution_count": 29
        }
      ]
    },
    {
      "cell_type": "markdown",
      "metadata": {
        "id": "4LvMw9j1tNQX",
        "colab_type": "text"
      },
      "source": [
        "## Algoritmo por Método de Gradiente "
      ]
    },
    {
      "cell_type": "code",
      "metadata": {
        "id": "Xn4ycwGEpCmc",
        "colab_type": "code",
        "outputId": "0463d176-c7c9-419e-b61e-12579271ec57",
        "colab": {
          "base_uri": "https://localhost:8080/",
          "height": 305
        }
      },
      "source": [
        "# Quantidade de tentativas de gerar uma nova solução\n",
        "iteracoes = 100\n",
        "\n",
        "# listas com os dados para gerar o gráfico\n",
        "func_objetivo = []\n",
        "tentativas = []\n",
        "valor_x = []\n",
        "valor_y = []\n",
        "\n",
        "# contador de tentativas\n",
        "i = 1\n",
        "\n",
        "# Gera a solução inicial aleatoriamente respeitando os limites \n",
        "x = random.uniform(-2*pi, 2*pi)\n",
        "y = random.uniform(-2*pi, 2*pi)\n",
        "\n",
        "# calcula a qualidade da solucao\n",
        "z = bird_function(x, y)\n",
        "\n",
        "# salva os dados para geração do gráfico\n",
        "func_objetivo.append(z)\n",
        "valor_x.append(x)\n",
        "valor_y.append(y)\n",
        "tentativas.append(0)\n",
        "\n",
        "# enquanto houver tentativas\n",
        "while i < iteracoes:\n",
        "  \n",
        "  # geracao de uma nova solucao aleatoriamente, respeitando os limites\n",
        "  tempX = random.uniform(-2*pi, 2*pi) + random.uniform(-0.5, 0.5)\n",
        "  tempY = random.uniform(-2*pi, 2*pi) - random.uniform(-0.5, 0.5)\n",
        "\n",
        "  if (tempX > 2*pi):\n",
        "    while tempX > 2*pi:\n",
        "      tempX = random.uniform(-2*pi, 2*pi) + random.uniform(-0.5, 0.5)\n",
        "  elif(tempX < -2*pi):\n",
        "    while tempX < -2*pi:\n",
        "      tempX = random.uniform(-2*pi, 2*pi) + random.uniform(-0.5, 0.5)\n",
        "\n",
        "  if (tempY > 2*pi):\n",
        "    while tempY > 2*pi:\n",
        "      tempY = random.uniform(-2*pi, 2*pi) - random.uniform(-0.5, 0.5)\n",
        "  elif(tempY < -2*pi):\n",
        "    while tempY < -2*pi:\n",
        "      tempY = random.uniform(-2*pi, 2*pi) - random.uniform(-0.5, 0.5)\n",
        "\n",
        "  # Calcula a qualidade da solução gerada\n",
        "  tempfunction = bird_function(tempX, tempY)\n",
        "  \n",
        "  # se a nova solucao for melhor, atualiza\n",
        "  if( tempfunction < z ):\n",
        "    if (random.uniform(1, 10) > 2):\n",
        "          z = tempfunction\n",
        "          x = tempX\n",
        "          y = tempY\n",
        "  \n",
        "  # salva os dados para geração do gráfico\n",
        "  func_objetivo.append(z)\n",
        "  tentativas.append(i)\n",
        "  valor_x.append(x)\n",
        "  valor_y.append(x)\n",
        "  \n",
        "  # contabiliza a tentativa\n",
        "  i = i + 1\n",
        "\n",
        "#############################################\n",
        "## Geracao do gráfico  \n",
        "#############################################\n",
        "# Importação da biblioteca MatplotLib\n",
        "\n",
        "y = func_objetivo\n",
        "x = tentativas\n",
        "\n",
        "# Biblioteca matplotlib\n",
        "import matplotlib\n",
        "matplotlib.use('Agg')\n",
        "# Gera os gráficos\n",
        "import matplotlib.pyplot as plt\n",
        "\n",
        "# Utilizado para cálculos\n",
        "import numpy as np\n",
        "\n",
        "# Utilizado para exibir as imagens\n",
        "from IPython.display import Image\n",
        "\n",
        "# Dados que serão utilizados\n",
        "\n",
        "\n",
        "# Gera o gráfico de linhas\n",
        "plt.plot(x, y )\n",
        "\n",
        "# Coloca o título\n",
        "plt.title(\"Desempenho do método gradiente\")\n",
        "\n",
        "plt.ylabel(\"Valor da funcao objetivo\")\n",
        "plt.xlabel(\"Iteracoes\")\n",
        "\n",
        "# Salva a figura em um arquivo\n",
        "plt.savefig('grafico_de_linha')\n",
        "\n",
        "plt.close('all')\n",
        "\n",
        "# Exibe a imagem\n",
        "Image('grafico_de_linha.png')"
      ],
      "execution_count": 28,
      "outputs": [
        {
          "output_type": "execute_result",
          "data": {
            "image/png": "[encoded data removed]",
            "text/plain": [
              "<IPython.core.display.Image object>"
            ]
          },
          "metadata": {
            "tags": []
          },
          "execution_count": 28
        }
      ]
    }
  ]
}